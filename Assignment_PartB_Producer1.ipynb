{
 "cells": [
  {
   "cell_type": "markdown",
   "metadata": {},
   "source": [
    "# Producer 1\n",
    "\n",
    "Write a python program that loads all the data from\n",
    "climate_streaming.csv and randomly (with replacement) feed the data to the\n",
    "stream every 10 seconds. You will need to append additional information such as producer information to identify the producer and created date."
   ]
  },
  {
   "cell_type": "code",
   "execution_count": 1,
   "metadata": {},
   "outputs": [],
   "source": [
    "import random\n",
    "\n",
    "from time import sleep\n",
    "from json import dumps\n",
    "from kafka3 import KafkaProducer\n",
    "from pymongo import MongoClient\n",
    "\n",
    "import datetime as dt\n",
    "import pandas as pd"
   ]
  },
  {
   "cell_type": "code",
   "execution_count": 2,
   "metadata": {},
   "outputs": [
    {
     "name": "stdout",
     "output_type": "stream",
     "text": [
      "latitude                   float64\n",
      "longitude                  float64\n",
      "air_temperature_celcius      int64\n",
      "relative_humidity          float64\n",
      "windspeed_knots            float64\n",
      "max_wind_speed             float64\n",
      "precipitation               object\n",
      "GHI_w/m2                     int64\n",
      "dtype: object\n"
     ]
    },
    {
     "data": {
      "text/html": [
       "<div>\n",
       "<style scoped>\n",
       "    .dataframe tbody tr th:only-of-type {\n",
       "        vertical-align: middle;\n",
       "    }\n",
       "\n",
       "    .dataframe tbody tr th {\n",
       "        vertical-align: top;\n",
       "    }\n",
       "\n",
       "    .dataframe thead th {\n",
       "        text-align: right;\n",
       "    }\n",
       "</style>\n",
       "<table border=\"1\" class=\"dataframe\">\n",
       "  <thead>\n",
       "    <tr style=\"text-align: right;\">\n",
       "      <th></th>\n",
       "      <th>latitude</th>\n",
       "      <th>longitude</th>\n",
       "      <th>air_temperature_celcius</th>\n",
       "      <th>relative_humidity</th>\n",
       "      <th>windspeed_knots</th>\n",
       "      <th>max_wind_speed</th>\n",
       "      <th>precipitation</th>\n",
       "      <th>GHI_w/m2</th>\n",
       "      <th>precipitation_type</th>\n",
       "    </tr>\n",
       "  </thead>\n",
       "  <tbody>\n",
       "    <tr>\n",
       "      <th>0</th>\n",
       "      <td>-37.623</td>\n",
       "      <td>149.323</td>\n",
       "      <td>19</td>\n",
       "      <td>56.8</td>\n",
       "      <td>7.9</td>\n",
       "      <td>11.1</td>\n",
       "      <td>0.00</td>\n",
       "      <td>154</td>\n",
       "      <td>I</td>\n",
       "    </tr>\n",
       "    <tr>\n",
       "      <th>1</th>\n",
       "      <td>-38.038</td>\n",
       "      <td>142.986</td>\n",
       "      <td>15</td>\n",
       "      <td>50.7</td>\n",
       "      <td>9.2</td>\n",
       "      <td>13.0</td>\n",
       "      <td>0.02</td>\n",
       "      <td>128</td>\n",
       "      <td>G</td>\n",
       "    </tr>\n",
       "    <tr>\n",
       "      <th>2</th>\n",
       "      <td>-37.950</td>\n",
       "      <td>142.366</td>\n",
       "      <td>16</td>\n",
       "      <td>53.6</td>\n",
       "      <td>8.1</td>\n",
       "      <td>15.0</td>\n",
       "      <td>0.00</td>\n",
       "      <td>133</td>\n",
       "      <td>G</td>\n",
       "    </tr>\n",
       "    <tr>\n",
       "      <th>3</th>\n",
       "      <td>-38.231</td>\n",
       "      <td>147.172</td>\n",
       "      <td>24</td>\n",
       "      <td>61.6</td>\n",
       "      <td>7.7</td>\n",
       "      <td>14.0</td>\n",
       "      <td>0.00</td>\n",
       "      <td>186</td>\n",
       "      <td>I</td>\n",
       "    </tr>\n",
       "    <tr>\n",
       "      <th>4</th>\n",
       "      <td>-37.903</td>\n",
       "      <td>145.250</td>\n",
       "      <td>24</td>\n",
       "      <td>62.3</td>\n",
       "      <td>7.0</td>\n",
       "      <td>13.0</td>\n",
       "      <td>0.00</td>\n",
       "      <td>185</td>\n",
       "      <td>I</td>\n",
       "    </tr>\n",
       "  </tbody>\n",
       "</table>\n",
       "</div>"
      ],
      "text/plain": [
       "   latitude  longitude  air_temperature_celcius  relative_humidity  \\\n",
       "0   -37.623    149.323                       19               56.8   \n",
       "1   -38.038    142.986                       15               50.7   \n",
       "2   -37.950    142.366                       16               53.6   \n",
       "3   -38.231    147.172                       24               61.6   \n",
       "4   -37.903    145.250                       24               62.3   \n",
       "\n",
       "   windspeed_knots  max_wind_speed  precipitation  GHI_w/m2 precipitation_type  \n",
       "0              7.9            11.1           0.00       154                  I  \n",
       "1              9.2            13.0           0.02       128                  G  \n",
       "2              8.1            15.0           0.00       133                  G  \n",
       "3              7.7            14.0           0.00       186                  I  \n",
       "4              7.0            13.0           0.00       185                  I  "
      ]
     },
     "execution_count": 2,
     "metadata": {},
     "output_type": "execute_result"
    }
   ],
   "source": [
    "# read csv\n",
    "climate_streaming_df = pd.read_csv(\"dataset/climate_streaming.csv\")\n",
    "print(climate_streaming_df.dtypes)\n",
    "\n",
    "# striping whitespace from column and separating precipitation type\n",
    "climate_streaming_df.rename(columns={\"precipitation \": \"precipitation\"}, inplace=True)\n",
    "climate_streaming_df[\"precipitation_type\"] = (\n",
    "    climate_streaming_df[\"precipitation\"].str.strip().str[-1]\n",
    ")\n",
    "climate_streaming_df[\"precipitation\"] = (\n",
    "    climate_streaming_df[\"precipitation\"].str.strip().str[:-1].astype(float)\n",
    ")\n",
    "\n",
    "climate_streaming_df.head()"
   ]
  },
  {
   "cell_type": "code",
   "execution_count": 3,
   "metadata": {},
   "outputs": [
    {
     "data": {
      "text/plain": [
       "datetime.datetime(2023, 3, 24, 0, 0)"
      ]
     },
     "execution_count": 3,
     "metadata": {},
     "output_type": "execute_result"
    }
   ],
   "source": [
    "# initializing mongo connection to database\n",
    "client = MongoClient()\n",
    "db = client.fit3182_assignment_db\n",
    "collection = db.climate_historic\n",
    "\n",
    "# finding latest date\n",
    "result = collection.find().sort(\"date\", -1).limit(1)\n",
    "latest_date = list(result)[0][\"date\"]\n",
    "latest_date"
   ]
  },
  {
   "cell_type": "code",
   "execution_count": 4,
   "metadata": {},
   "outputs": [],
   "source": [
    "def process_data(df):\n",
    "    dataset = []\n",
    "    for index, row in df.iterrows():\n",
    "        # convert each row to dictionary\n",
    "        data = row.to_dict()\n",
    "        dataset.append(data)\n",
    "    return dataset\n",
    "\n",
    "\n",
    "def publish_message(producer_instance, topic_name, data):\n",
    "    try:\n",
    "        # send message to kafka asynchronously\n",
    "        producer_instance.send(topic_name, value=data)\n",
    "        # wait for all outstanding message to be persisted to disk\n",
    "        producer_instance.flush()\n",
    "        print(\"Message published successfully. Data: \" + str(data))\n",
    "    except Exception as ex:\n",
    "        print(\"Exception in publishing message.\")\n",
    "        print(str(ex))\n",
    "\n",
    "\n",
    "def connect_kafka_producer(host):\n",
    "    _producer = None\n",
    "    try:\n",
    "        # serializer used to serialize data to json instead of string\n",
    "        _producer = KafkaProducer(\n",
    "            bootstrap_servers=[f\"{host}:9092\"],\n",
    "            value_serializer=lambda x: dumps(x).encode(\"ascii\"),\n",
    "            api_version=(0, 10),\n",
    "        )\n",
    "    except Exception as ex:\n",
    "        print(\"Exception while connecting Kafka.\")\n",
    "        print(str(ex))\n",
    "    finally:\n",
    "        return _producer"
   ]
  },
  {
   "cell_type": "code",
   "execution_count": 5,
   "metadata": {},
   "outputs": [
    {
     "name": "stdout",
     "output_type": "stream",
     "text": [
      "Publishing records..\n",
      "Message published successfully. Data: {'latitude': -37.236, 'longitude': 141.176, 'air_temperature_celcius': 14, 'relative_humidity': 48.1, 'windspeed_knots': 13.7, 'max_wind_speed': 19.0, 'precipitation': 0.35, 'GHI_w/m2': 122, 'precipitation_type': 'G', 'date': '2023-03-25', 'producer_id': 'climate_producer', 'station': 948700}\n",
      "Message published successfully. Data: {'latitude': -36.779, 'longitude': 146.108, 'air_temperature_celcius': 13, 'relative_humidity': 42.0, 'windspeed_knots': 11.4, 'max_wind_speed': 16.9, 'precipitation': 0.0, 'GHI_w/m2': 119, 'precipitation_type': 'G', 'date': '2023-03-26', 'producer_id': 'climate_producer', 'station': 948700}\n",
      "Message published successfully. Data: {'latitude': -35.321, 'longitude': 143.502, 'air_temperature_celcius': 12, 'relative_humidity': 44.0, 'windspeed_knots': 4.7, 'max_wind_speed': 7.0, 'precipitation': 0.0, 'GHI_w/m2': 108, 'precipitation_type': 'G', 'date': '2023-03-27', 'producer_id': 'climate_producer', 'station': 948700}\n",
      "Message published successfully. Data: {'latitude': -37.1405, 'longitude': 144.1375, 'air_temperature_celcius': 20, 'relative_humidity': 60.8, 'windspeed_knots': 10.4, 'max_wind_speed': 16.9, 'precipitation': 0.08, 'GHI_w/m2': 156, 'precipitation_type': 'G', 'date': '2023-03-28', 'producer_id': 'climate_producer', 'station': 948700}\n",
      "Message published successfully. Data: {'latitude': -36.404, 'longitude': 142.5467, 'air_temperature_celcius': 25, 'relative_humidity': 60.9, 'windspeed_knots': 6.3, 'max_wind_speed': 8.9, 'precipitation': 0.0, 'GHI_w/m2': 195, 'precipitation_type': 'I', 'date': '2023-03-29', 'producer_id': 'climate_producer', 'station': 948700}\n",
      "Message published successfully. Data: {'latitude': -37.485, 'longitude': 148.095, 'air_temperature_celcius': 11, 'relative_humidity': 45.4, 'windspeed_knots': 5.2, 'max_wind_speed': 8.9, 'precipitation': 0.0, 'GHI_w/m2': 98, 'precipitation_type': 'A', 'date': '2023-03-30', 'producer_id': 'climate_producer', 'station': 948700}\n"
     ]
    },
    {
     "ename": "KeyboardInterrupt",
     "evalue": "",
     "output_type": "error",
     "traceback": [
      "\u001b[0;31m---------------------------------------------------------------------------\u001b[0m",
      "\u001b[0;31mKeyboardInterrupt\u001b[0m                         Traceback (most recent call last)",
      "Cell \u001b[0;32mIn[5], line 26\u001b[0m\n\u001b[1;32m     22\u001b[0m selection[\u001b[38;5;124m\"\u001b[39m\u001b[38;5;124mstation\u001b[39m\u001b[38;5;124m\"\u001b[39m] \u001b[38;5;241m=\u001b[39m \u001b[38;5;241m948700\u001b[39m\n\u001b[1;32m     24\u001b[0m publish_message(producer, TOPIC, selection)\n\u001b[0;32m---> 26\u001b[0m \u001b[43msleep\u001b[49m\u001b[43m(\u001b[49m\u001b[38;5;241;43m10\u001b[39;49m\u001b[43m)\u001b[49m  \u001b[38;5;66;03m# sleep for 10 seconds before publishing next message\u001b[39;00m\n",
      "\u001b[0;31mKeyboardInterrupt\u001b[0m: "
     ]
    }
   ],
   "source": [
    "TOPIC = \"climate\"\n",
    "HOST = \"localhost\"\n",
    "\n",
    "producer = connect_kafka_producer(HOST)\n",
    "dataset = process_data(climate_streaming_df)\n",
    "current_date = latest_date\n",
    "\n",
    "print(\"Publishing records..\")\n",
    "while True:\n",
    "    # increment date after every iteration\n",
    "    current_date += dt.timedelta(days=1)\n",
    "\n",
    "    # get random row and add metadata with replacement\n",
    "    selection = random.choice(dataset)\n",
    "    # transform date to string to be serialized\n",
    "    selection[\"date\"] = current_date.strftime(\"%Y-%m-%d\")\n",
    "\n",
    "    # adding metadata field\n",
    "    # producer id to identify type of producer\n",
    "    # station - set as constant to conform to data model\n",
    "    selection[\"producer_id\"] = \"climate_producer\"\n",
    "    selection[\"station\"] = 948700\n",
    "\n",
    "    publish_message(producer, TOPIC, selection)\n",
    "\n",
    "    sleep(10)  # sleep for 10 seconds before publishing next message"
   ]
  }
 ],
 "metadata": {
  "kernelspec": {
   "display_name": "asgn_3",
   "language": "python",
   "name": "asgn_3"
  },
  "language_info": {
   "codemirror_mode": {
    "name": "ipython",
    "version": 3
   },
   "file_extension": ".py",
   "mimetype": "text/x-python",
   "name": "python",
   "nbconvert_exporter": "python",
   "pygments_lexer": "ipython3",
   "version": "3.9.16"
  }
 },
 "nbformat": 4,
 "nbformat_minor": 2
}
