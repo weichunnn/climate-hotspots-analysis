{
 "cells": [
  {
   "cell_type": "markdown",
   "metadata": {},
   "source": [
    "# Producer 2\n",
    "\n",
    "Write a python program that loads all the data from\n",
    "hotspot_AQUA_streaming.csv and randomly (with replacement) feed the data to\n",
    "the stream every 2 seconds. AQUA is the satellite from NASA that reports latitude,\n",
    "longitude, confidence and surface temperature of a location. You will need to\n",
    "append additional information such as producer information to identify the\n",
    "producer and created date & time."
   ]
  },
  {
   "cell_type": "code",
   "execution_count": null,
   "metadata": {},
   "outputs": [],
   "source": [
    "import random\n",
    "from time import sleep\n",
    "from json import dumps\n",
    "from kafka3 import KafkaProducer\n",
    "from pymongo import MongoClient\n",
    "\n",
    "import datetime as dt\n",
    "import pandas as pd"
   ]
  },
  {
   "cell_type": "code",
   "execution_count": null,
   "metadata": {},
   "outputs": [],
   "source": [
    "# read csv\n",
    "hotspot_streaming_df = pd.read_csv(\"dataset/hotspot_AQUA_streaming.csv\")\n",
    "hotspot_streaming_df.head()"
   ]
  },
  {
   "cell_type": "code",
   "execution_count": null,
   "metadata": {},
   "outputs": [],
   "source": [
    "# initializing mongo connection to database\n",
    "client = MongoClient()\n",
    "db = client.fit3182_assignment_db\n",
    "collection = db.climate_historic\n",
    "\n",
    "# finding latest date\n",
    "result = collection.find().sort(\"date\", -1).limit(1)\n",
    "latest_date = list(result)[0][\"date\"]\n",
    "latest_date"
   ]
  },
  {
   "cell_type": "code",
   "execution_count": null,
   "metadata": {},
   "outputs": [],
   "source": [
    "def process_data(df):\n",
    "    dataset = []\n",
    "    for index, row in df.iterrows():\n",
    "        # convert each row to dictionary\n",
    "        data = row.to_dict()\n",
    "        dataset.append(data)\n",
    "    return dataset\n",
    "\n",
    "\n",
    "def publish_message(producer_instance, topic_name, data):\n",
    "    try:\n",
    "        # send message to kafka asynchronously\n",
    "        producer_instance.send(topic_name, value=data)\n",
    "        # wait for all outstanding message to be persisted to disk\n",
    "        producer_instance.flush()\n",
    "        print(\"Message published successfully. Data: \" + str(data))\n",
    "    except Exception as ex:\n",
    "        print(\"Exception in publishing message.\")\n",
    "        print(str(ex))\n",
    "\n",
    "\n",
    "def connect_kafka_producer(host):\n",
    "    _producer = None\n",
    "    try:\n",
    "        # serializer used to to serialize data to json instead of string\n",
    "        _producer = KafkaProducer(\n",
    "            bootstrap_servers=[f\"{host}:9092\"],\n",
    "            value_serializer=lambda x: dumps(x).encode(\"ascii\"),\n",
    "            api_version=(0, 10),\n",
    "        )\n",
    "    except Exception as ex:\n",
    "        print(\"Exception while connecting Kafka.\")\n",
    "        print(str(ex))\n",
    "    finally:\n",
    "        return _producer"
   ]
  },
  {
   "cell_type": "code",
   "execution_count": null,
   "metadata": {},
   "outputs": [],
   "source": [
    "TOPIC = \"hotspot\"\n",
    "HOST = \"localhost\"\n",
    "\n",
    "producer = connect_kafka_producer(HOST)\n",
    "dataset = process_data(hotspot_streaming_df)\n",
    "current_date = latest_date\n",
    "\n",
    "print(\"Publishing records..\")\n",
    "while True:\n",
    "    # increment date after every iteration\n",
    "    # since 10 seconds == 24 hours, hence 2 seconds = (24 / 10) * 2\n",
    "    current_date += dt.timedelta(hours=4.8)\n",
    "\n",
    "    # get random row with replacement\n",
    "    selection = random.choice(dataset)\n",
    "\n",
    "    # add metadata and row identifier\n",
    "    selection[\"datetime\"] = current_date.isoformat()\n",
    "    selection[\"producer_id\"] = \"aqua_producer\"\n",
    "\n",
    "    publish_message(producer, TOPIC, selection)\n",
    "\n",
    "    sleep(2)  # sleep for 2 seconds before publishing next message"
   ]
  }
 ],
 "metadata": {
  "kernelspec": {
   "display_name": "asgn_3",
   "language": "python",
   "name": "asgn_3"
  },
  "language_info": {
   "codemirror_mode": {
    "name": "ipython",
    "version": 3
   },
   "file_extension": ".py",
   "mimetype": "text/x-python",
   "name": "python",
   "nbconvert_exporter": "python",
   "pygments_lexer": "ipython3",
   "version": "3.9.16"
  }
 },
 "nbformat": 4,
 "nbformat_minor": 2
}
