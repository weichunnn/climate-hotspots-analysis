{
 "cells": [
  {
   "cell_type": "markdown",
   "metadata": {},
   "source": [
    "# Producer 2\n",
    "\n",
    "Write a python program that loads all the data from\n",
    "hotspot_AQUA_streaming.csv and randomly (with replacement) feed the data to\n",
    "the stream every 2 seconds. AQUA is the satellite from NASA that reports latitude,\n",
    "longitude, confidence and surface temperature of a location. You will need to\n",
    "append additional information such as producer information to identify the\n",
    "producer and created date & time."
   ]
  },
  {
   "cell_type": "code",
   "execution_count": 1,
   "metadata": {},
   "outputs": [],
   "source": [
    "import random\n",
    "from time import sleep\n",
    "from json import dumps\n",
    "from kafka3 import KafkaProducer\n",
    "from pymongo import MongoClient\n",
    "\n",
    "import datetime as dt\n",
    "import pandas as pd"
   ]
  },
  {
   "cell_type": "code",
   "execution_count": 2,
   "metadata": {},
   "outputs": [
    {
     "data": {
      "text/html": [
       "<div>\n",
       "<style scoped>\n",
       "    .dataframe tbody tr th:only-of-type {\n",
       "        vertical-align: middle;\n",
       "    }\n",
       "\n",
       "    .dataframe tbody tr th {\n",
       "        vertical-align: top;\n",
       "    }\n",
       "\n",
       "    .dataframe thead th {\n",
       "        text-align: right;\n",
       "    }\n",
       "</style>\n",
       "<table border=\"1\" class=\"dataframe\">\n",
       "  <thead>\n",
       "    <tr style=\"text-align: right;\">\n",
       "      <th></th>\n",
       "      <th>latitude</th>\n",
       "      <th>longitude</th>\n",
       "      <th>confidence</th>\n",
       "      <th>surface_temperature_celcius</th>\n",
       "    </tr>\n",
       "  </thead>\n",
       "  <tbody>\n",
       "    <tr>\n",
       "      <th>0</th>\n",
       "      <td>-37.623</td>\n",
       "      <td>149.323</td>\n",
       "      <td>51</td>\n",
       "      <td>38</td>\n",
       "    </tr>\n",
       "    <tr>\n",
       "      <th>1</th>\n",
       "      <td>-38.038</td>\n",
       "      <td>142.986</td>\n",
       "      <td>65</td>\n",
       "      <td>40</td>\n",
       "    </tr>\n",
       "    <tr>\n",
       "      <th>2</th>\n",
       "      <td>-37.950</td>\n",
       "      <td>142.366</td>\n",
       "      <td>92</td>\n",
       "      <td>70</td>\n",
       "    </tr>\n",
       "    <tr>\n",
       "      <th>3</th>\n",
       "      <td>-38.231</td>\n",
       "      <td>147.172</td>\n",
       "      <td>83</td>\n",
       "      <td>60</td>\n",
       "    </tr>\n",
       "    <tr>\n",
       "      <th>4</th>\n",
       "      <td>-37.903</td>\n",
       "      <td>145.250</td>\n",
       "      <td>53</td>\n",
       "      <td>44</td>\n",
       "    </tr>\n",
       "  </tbody>\n",
       "</table>\n",
       "</div>"
      ],
      "text/plain": [
       "   latitude  longitude  confidence  surface_temperature_celcius\n",
       "0   -37.623    149.323          51                           38\n",
       "1   -38.038    142.986          65                           40\n",
       "2   -37.950    142.366          92                           70\n",
       "3   -38.231    147.172          83                           60\n",
       "4   -37.903    145.250          53                           44"
      ]
     },
     "execution_count": 2,
     "metadata": {},
     "output_type": "execute_result"
    }
   ],
   "source": [
    "# read csv\n",
    "hotspot_streaming_df = pd.read_csv(\"dataset/hotspot_AQUA_streaming.csv\")\n",
    "hotspot_streaming_df.head()"
   ]
  },
  {
   "cell_type": "code",
   "execution_count": 3,
   "metadata": {},
   "outputs": [
    {
     "data": {
      "text/plain": [
       "datetime.datetime(2023, 3, 24, 0, 0)"
      ]
     },
     "execution_count": 3,
     "metadata": {},
     "output_type": "execute_result"
    }
   ],
   "source": [
    "# initializing mongo connection to database\n",
    "client = MongoClient()\n",
    "db = client.fit3182_assignment_db\n",
    "collection = db.climate_historic\n",
    "\n",
    "# finding latest date\n",
    "result = collection.find().sort(\"date\", -1).limit(1)\n",
    "latest_date = list(result)[0][\"date\"]\n",
    "latest_date"
   ]
  },
  {
   "cell_type": "code",
   "execution_count": 4,
   "metadata": {},
   "outputs": [],
   "source": [
    "def process_data(df):\n",
    "    dataset = []\n",
    "    for index, row in df.iterrows():\n",
    "        # convert each row to dictionary\n",
    "        data = row.to_dict()\n",
    "        dataset.append(data)\n",
    "    return dataset\n",
    "\n",
    "\n",
    "def publish_message(producer_instance, topic_name, data):\n",
    "    try:\n",
    "        # send message to kafka asynchronously\n",
    "        producer_instance.send(topic_name, value=data)\n",
    "        # wait for all outstanding message to be persisted to disk\n",
    "        producer_instance.flush()\n",
    "        print(\"Message published successfully. Data: \" + str(data))\n",
    "    except Exception as ex:\n",
    "        print(\"Exception in publishing message.\")\n",
    "        print(str(ex))\n",
    "\n",
    "\n",
    "def connect_kafka_producer(host):\n",
    "    _producer = None\n",
    "    try:\n",
    "        # serializer used to to serialize data to json instead of string\n",
    "        _producer = KafkaProducer(\n",
    "            bootstrap_servers=[f\"{host}:9092\"],\n",
    "            value_serializer=lambda x: dumps(x).encode(\"ascii\"),\n",
    "            api_version=(0, 10),\n",
    "        )\n",
    "    except Exception as ex:\n",
    "        print(\"Exception while connecting Kafka.\")\n",
    "        print(str(ex))\n",
    "    finally:\n",
    "        return _producer"
   ]
  },
  {
   "cell_type": "code",
   "execution_count": 5,
   "metadata": {},
   "outputs": [
    {
     "name": "stdout",
     "output_type": "stream",
     "text": [
      "Publishing records..\n",
      "Message published successfully. Data: {'latitude': -36.3831, 'longitude': 145.7276, 'confidence': 71.0, 'surface_temperature_celcius': 45.0, 'datetime': '2023-03-24T04:48:00', 'producer_id': 'aqua_producer'}\n",
      "Message published successfully. Data: {'latitude': -38.0254, 'longitude': 142.3959, 'confidence': 100.0, 'surface_temperature_celcius': 99.0, 'datetime': '2023-03-24T09:36:00', 'producer_id': 'aqua_producer'}\n",
      "Message published successfully. Data: {'latitude': -36.943, 'longitude': 141.863, 'confidence': 50.0, 'surface_temperature_celcius': 40.0, 'datetime': '2023-03-24T14:24:00', 'producer_id': 'aqua_producer'}\n",
      "Message published successfully. Data: {'latitude': -36.0169, 'longitude': 141.6868, 'confidence': 80.0, 'surface_temperature_celcius': 53.0, 'datetime': '2023-03-24T19:12:00', 'producer_id': 'aqua_producer'}\n",
      "Message published successfully. Data: {'latitude': -36.163, 'longitude': 144.0295, 'confidence': 81.0, 'surface_temperature_celcius': 55.0, 'datetime': '2023-03-25T00:00:00', 'producer_id': 'aqua_producer'}\n",
      "Message published successfully. Data: {'latitude': -36.4361, 'longitude': 141.1724, 'confidence': 84.0, 'surface_temperature_celcius': 58.0, 'datetime': '2023-03-25T04:48:00', 'producer_id': 'aqua_producer'}\n",
      "Message published successfully. Data: {'latitude': -36.6686, 'longitude': 142.5195, 'confidence': 82.0, 'surface_temperature_celcius': 56.0, 'datetime': '2023-03-25T09:36:00', 'producer_id': 'aqua_producer'}\n",
      "Message published successfully. Data: {'latitude': -37.7236, 'longitude': 143.3995, 'confidence': 99.0, 'surface_temperature_celcius': 86.0, 'datetime': '2023-03-25T14:24:00', 'producer_id': 'aqua_producer'}\n",
      "Message published successfully. Data: {'latitude': -37.4872, 'longitude': 143.0435, 'confidence': 81.0, 'surface_temperature_celcius': 54.0, 'datetime': '2023-03-25T19:12:00', 'producer_id': 'aqua_producer'}\n",
      "Message published successfully. Data: {'latitude': -38.1187, 'longitude': 143.7662, 'confidence': 76.0, 'surface_temperature_celcius': 50.0, 'datetime': '2023-03-26T00:00:00', 'producer_id': 'aqua_producer'}\n",
      "Message published successfully. Data: {'latitude': -37.8185, 'longitude': 142.5609, 'confidence': 90.0, 'surface_temperature_celcius': 66.0, 'datetime': '2023-03-26T04:48:00', 'producer_id': 'aqua_producer'}\n",
      "Message published successfully. Data: {'latitude': -36.353, 'longitude': 143.3506, 'confidence': 84.0, 'surface_temperature_celcius': 58.0, 'datetime': '2023-03-26T09:36:00', 'producer_id': 'aqua_producer'}\n",
      "Message published successfully. Data: {'latitude': -38.1693, 'longitude': 143.0466, 'confidence': 93.0, 'surface_temperature_celcius': 73.0, 'datetime': '2023-03-26T14:24:00', 'producer_id': 'aqua_producer'}\n",
      "Message published successfully. Data: {'latitude': -37.3301, 'longitude': 143.5514, 'confidence': 86.0, 'surface_temperature_celcius': 61.0, 'datetime': '2023-03-26T19:12:00', 'producer_id': 'aqua_producer'}\n",
      "Message published successfully. Data: {'latitude': -37.8122, 'longitude': 146.0807, 'confidence': 100.0, 'surface_temperature_celcius': 111.0, 'datetime': '2023-03-27T00:00:00', 'producer_id': 'aqua_producer'}\n",
      "Message published successfully. Data: {'latitude': -37.6714, 'longitude': 144.2154, 'confidence': 67.0, 'surface_temperature_celcius': 46.0, 'datetime': '2023-03-27T04:48:00', 'producer_id': 'aqua_producer'}\n",
      "Message published successfully. Data: {'latitude': -37.9022, 'longitude': 141.1109, 'confidence': 81.0, 'surface_temperature_celcius': 55.0, 'datetime': '2023-03-27T09:36:00', 'producer_id': 'aqua_producer'}\n",
      "Message published successfully. Data: {'latitude': -36.7313, 'longitude': 141.7398, 'confidence': 83.0, 'surface_temperature_celcius': 57.0, 'datetime': '2023-03-27T14:24:00', 'producer_id': 'aqua_producer'}\n",
      "Message published successfully. Data: {'latitude': -37.5077, 'longitude': 143.2495, 'confidence': 59.0, 'surface_temperature_celcius': 40.0, 'datetime': '2023-03-27T19:12:00', 'producer_id': 'aqua_producer'}\n",
      "Message published successfully. Data: {'latitude': -37.8326, 'longitude': 143.4999, 'confidence': 100.0, 'surface_temperature_celcius': 120.0, 'datetime': '2023-03-28T00:00:00', 'producer_id': 'aqua_producer'}\n",
      "Message published successfully. Data: {'latitude': -36.7746, 'longitude': 146.6642, 'confidence': 91.0, 'surface_temperature_celcius': 68.0, 'datetime': '2023-03-28T04:48:00', 'producer_id': 'aqua_producer'}\n",
      "Message published successfully. Data: {'latitude': -37.62, 'longitude': 149.294, 'confidence': 87.0, 'surface_temperature_celcius': 63.0, 'datetime': '2023-03-28T09:36:00', 'producer_id': 'aqua_producer'}\n",
      "Message published successfully. Data: {'latitude': -37.7931, 'longitude': 148.385, 'confidence': 64.0, 'surface_temperature_celcius': 58.0, 'datetime': '2023-03-28T14:24:00', 'producer_id': 'aqua_producer'}\n",
      "Message published successfully. Data: {'latitude': -37.6854, 'longitude': 143.4543, 'confidence': 95.0, 'surface_temperature_celcius': 76.0, 'datetime': '2023-03-28T19:12:00', 'producer_id': 'aqua_producer'}\n",
      "Message published successfully. Data: {'latitude': -36.7501, 'longitude': 142.8867, 'confidence': 56.0, 'surface_temperature_celcius': 49.0, 'datetime': '2023-03-29T00:00:00', 'producer_id': 'aqua_producer'}\n",
      "Message published successfully. Data: {'latitude': -37.1999, 'longitude': 143.8231, 'confidence': 100.0, 'surface_temperature_celcius': 90.0, 'datetime': '2023-03-29T04:48:00', 'producer_id': 'aqua_producer'}\n",
      "Message published successfully. Data: {'latitude': -37.4373, 'longitude': 142.7654, 'confidence': 87.0, 'surface_temperature_celcius': 62.0, 'datetime': '2023-03-29T09:36:00', 'producer_id': 'aqua_producer'}\n",
      "Message published successfully. Data: {'latitude': -38.0361, 'longitude': 146.0567, 'confidence': 100.0, 'surface_temperature_celcius': 90.0, 'datetime': '2023-03-29T14:24:00', 'producer_id': 'aqua_producer'}\n"
     ]
    },
    {
     "ename": "KeyboardInterrupt",
     "evalue": "",
     "output_type": "error",
     "traceback": [
      "\u001b[0;31m---------------------------------------------------------------------------\u001b[0m",
      "\u001b[0;31mKeyboardInterrupt\u001b[0m                         Traceback (most recent call last)",
      "Cell \u001b[0;32mIn[5], line 23\u001b[0m\n\u001b[1;32m     19\u001b[0m selection[\u001b[38;5;124m\"\u001b[39m\u001b[38;5;124mproducer_id\u001b[39m\u001b[38;5;124m\"\u001b[39m] \u001b[38;5;241m=\u001b[39m \u001b[38;5;124m\"\u001b[39m\u001b[38;5;124maqua_producer\u001b[39m\u001b[38;5;124m\"\u001b[39m\n\u001b[1;32m     21\u001b[0m publish_message(producer, TOPIC, selection)\n\u001b[0;32m---> 23\u001b[0m \u001b[43msleep\u001b[49m\u001b[43m(\u001b[49m\u001b[38;5;241;43m2\u001b[39;49m\u001b[43m)\u001b[49m  \u001b[38;5;66;03m# sleep for 2 seconds before publishing next message\u001b[39;00m\n",
      "\u001b[0;31mKeyboardInterrupt\u001b[0m: "
     ]
    }
   ],
   "source": [
    "TOPIC = \"hotspot\"\n",
    "HOST = \"localhost\"\n",
    "\n",
    "producer = connect_kafka_producer(HOST)\n",
    "dataset = process_data(hotspot_streaming_df)\n",
    "current_date = latest_date\n",
    "\n",
    "print(\"Publishing records..\")\n",
    "while True:\n",
    "    # increment date after every iteration\n",
    "    # since 10 seconds == 24 hours, hence 2 seconds = (24 / 10) * 2\n",
    "    current_date += dt.timedelta(hours=4.8)\n",
    "\n",
    "    # get random row with replacement\n",
    "    selection = random.choice(dataset)\n",
    "\n",
    "    # add metadata and row identifier\n",
    "    selection[\"datetime\"] = current_date.isoformat()\n",
    "    selection[\"producer_id\"] = \"aqua_producer\"\n",
    "\n",
    "    publish_message(producer, TOPIC, selection)\n",
    "\n",
    "    sleep(2)  # sleep for 2 seconds before publishing next message"
   ]
  }
 ],
 "metadata": {
  "kernelspec": {
   "display_name": "asgn_3",
   "language": "python",
   "name": "asgn_3"
  },
  "language_info": {
   "codemirror_mode": {
    "name": "ipython",
    "version": 3
   },
   "file_extension": ".py",
   "mimetype": "text/x-python",
   "name": "python",
   "nbconvert_exporter": "python",
   "pygments_lexer": "ipython3",
   "version": "3.9.16"
  }
 },
 "nbformat": 4,
 "nbformat_minor": 2
}
