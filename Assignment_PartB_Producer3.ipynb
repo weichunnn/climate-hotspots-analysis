{
 "cells": [
  {
   "cell_type": "markdown",
   "metadata": {},
   "source": [
    "# Producer 3\n",
    "\n",
    "Write a python program that loads all the data from\n",
    "hotspot_TERRA_streaming.csv and randomly (with replacement) feeds the data to\n",
    "the stream every 2 seconds. TERRA is another satellite from NASA that reports\n",
    "latitude, longitude, confidence and surface temperature of a location. You will\n",
    "need to append additional information such as producer information to identify\n",
    "the producer and created date & time."
   ]
  },
  {
   "cell_type": "code",
   "execution_count": 1,
   "metadata": {},
   "outputs": [],
   "source": [
    "import random\n",
    "\n",
    "from time import sleep\n",
    "from json import dumps\n",
    "from kafka3 import KafkaProducer\n",
    "from pymongo import MongoClient\n",
    "\n",
    "import datetime as dt\n",
    "import pandas as pd"
   ]
  },
  {
   "cell_type": "code",
   "execution_count": 2,
   "metadata": {},
   "outputs": [
    {
     "data": {
      "text/html": [
       "<div>\n",
       "<style scoped>\n",
       "    .dataframe tbody tr th:only-of-type {\n",
       "        vertical-align: middle;\n",
       "    }\n",
       "\n",
       "    .dataframe tbody tr th {\n",
       "        vertical-align: top;\n",
       "    }\n",
       "\n",
       "    .dataframe thead th {\n",
       "        text-align: right;\n",
       "    }\n",
       "</style>\n",
       "<table border=\"1\" class=\"dataframe\">\n",
       "  <thead>\n",
       "    <tr style=\"text-align: right;\">\n",
       "      <th></th>\n",
       "      <th>latitude</th>\n",
       "      <th>longitude</th>\n",
       "      <th>confidence</th>\n",
       "      <th>surface_temperature_celcius</th>\n",
       "    </tr>\n",
       "  </thead>\n",
       "  <tbody>\n",
       "    <tr>\n",
       "      <th>0</th>\n",
       "      <td>-37.966</td>\n",
       "      <td>145.051</td>\n",
       "      <td>78</td>\n",
       "      <td>68</td>\n",
       "    </tr>\n",
       "    <tr>\n",
       "      <th>1</th>\n",
       "      <td>-35.541</td>\n",
       "      <td>143.311</td>\n",
       "      <td>82</td>\n",
       "      <td>63</td>\n",
       "    </tr>\n",
       "    <tr>\n",
       "      <th>2</th>\n",
       "      <td>-35.554</td>\n",
       "      <td>143.307</td>\n",
       "      <td>67</td>\n",
       "      <td>53</td>\n",
       "    </tr>\n",
       "    <tr>\n",
       "      <th>3</th>\n",
       "      <td>-35.543</td>\n",
       "      <td>143.316</td>\n",
       "      <td>86</td>\n",
       "      <td>67</td>\n",
       "    </tr>\n",
       "    <tr>\n",
       "      <th>4</th>\n",
       "      <td>-37.708</td>\n",
       "      <td>145.100</td>\n",
       "      <td>80</td>\n",
       "      <td>54</td>\n",
       "    </tr>\n",
       "  </tbody>\n",
       "</table>\n",
       "</div>"
      ],
      "text/plain": [
       "   latitude  longitude  confidence  surface_temperature_celcius\n",
       "0   -37.966    145.051          78                           68\n",
       "1   -35.541    143.311          82                           63\n",
       "2   -35.554    143.307          67                           53\n",
       "3   -35.543    143.316          86                           67\n",
       "4   -37.708    145.100          80                           54"
      ]
     },
     "execution_count": 2,
     "metadata": {},
     "output_type": "execute_result"
    }
   ],
   "source": [
    "# read csv\n",
    "hotspot_streaming_df = pd.read_csv(\"dataset/hotspot_TERRA_streaming.csv\")\n",
    "hotspot_streaming_df.head()"
   ]
  },
  {
   "cell_type": "code",
   "execution_count": 3,
   "metadata": {},
   "outputs": [
    {
     "data": {
      "text/plain": [
       "datetime.datetime(2023, 3, 24, 0, 0)"
      ]
     },
     "execution_count": 3,
     "metadata": {},
     "output_type": "execute_result"
    }
   ],
   "source": [
    "# initializing mongo connection to database\n",
    "client = MongoClient()\n",
    "db = client.fit3182_assignment_db\n",
    "collection = db.climate_historic\n",
    "\n",
    "# finding latest date\n",
    "result = collection.find().sort(\"date\", -1).limit(1)\n",
    "latest_date = list(result)[0][\"date\"]\n",
    "latest_date"
   ]
  },
  {
   "cell_type": "code",
   "execution_count": 4,
   "metadata": {},
   "outputs": [],
   "source": [
    "def process_data(df):\n",
    "    dataset = []\n",
    "    for index, row in df.iterrows():\n",
    "        # convert each row to dictionary\n",
    "        data = row.to_dict()\n",
    "        dataset.append(data)\n",
    "    return dataset\n",
    "\n",
    "\n",
    "def publish_message(producer_instance, topic_name, data):\n",
    "    try:\n",
    "        # send message to kafka asynchronously\n",
    "        producer_instance.send(topic_name, value=data)\n",
    "        # wait for all outstanding message are persisted to disk\n",
    "        producer_instance.flush()\n",
    "        print(\"Message published successfully. Data: \" + str(data))\n",
    "    except Exception as ex:\n",
    "        print(\"Exception in publishing message.\")\n",
    "        print(str(ex))\n",
    "\n",
    "\n",
    "def connect_kafka_producer(host):\n",
    "    _producer = None\n",
    "    try:\n",
    "        # serializer to serialize data to json instead of string\n",
    "        _producer = KafkaProducer(\n",
    "            bootstrap_servers=[f\"{host}:9092\"],\n",
    "            value_serializer=lambda x: dumps(x).encode(\"ascii\"),\n",
    "            api_version=(0, 10),\n",
    "        )\n",
    "    except Exception as ex:\n",
    "        print(\"Exception while connecting Kafka.\")\n",
    "        print(str(ex))\n",
    "    finally:\n",
    "        return _producer"
   ]
  },
  {
   "cell_type": "code",
   "execution_count": 5,
   "metadata": {},
   "outputs": [
    {
     "name": "stdout",
     "output_type": "stream",
     "text": [
      "Publishing records..\n",
      "Message published successfully. Data: {'latitude': -36.2933, 'longitude': 141.36, 'confidence': 94.0, 'surface_temperature_celcius': 75.0, 'datetime': '2023-03-24T04:48:00', 'producer_id': 'terra_producer'}\n",
      "Message published successfully. Data: {'latitude': -38.1756, 'longitude': 143.9829, 'confidence': 65.0, 'surface_temperature_celcius': 53.0, 'datetime': '2023-03-24T09:36:00', 'producer_id': 'terra_producer'}\n",
      "Message published successfully. Data: {'latitude': -37.0623, 'longitude': 142.8211, 'confidence': 80.0, 'surface_temperature_celcius': 53.0, 'datetime': '2023-03-24T14:24:00', 'producer_id': 'terra_producer'}\n",
      "Message published successfully. Data: {'latitude': -36.834, 'longitude': 142.524, 'confidence': 78.0, 'surface_temperature_celcius': 44.0, 'datetime': '2023-03-24T19:12:00', 'producer_id': 'terra_producer'}\n",
      "Message published successfully. Data: {'latitude': -37.7052, 'longitude': 144.6926, 'confidence': 72.0, 'surface_temperature_celcius': 46.0, 'datetime': '2023-03-25T00:00:00', 'producer_id': 'terra_producer'}\n",
      "Message published successfully. Data: {'latitude': -36.4379, 'longitude': 141.3392, 'confidence': 87.0, 'surface_temperature_celcius': 63.0, 'datetime': '2023-03-25T04:48:00', 'producer_id': 'terra_producer'}\n",
      "Message published successfully. Data: {'latitude': -37.0924, 'longitude': 141.897, 'confidence': 97.0, 'surface_temperature_celcius': 80.0, 'datetime': '2023-03-25T09:36:00', 'producer_id': 'terra_producer'}\n",
      "Message published successfully. Data: {'latitude': -37.9075, 'longitude': 142.6403, 'confidence': 62.0, 'surface_temperature_celcius': 41.0, 'datetime': '2023-03-25T14:24:00', 'producer_id': 'terra_producer'}\n",
      "Message published successfully. Data: {'latitude': -36.7842, 'longitude': 146.9658, 'confidence': 53.0, 'surface_temperature_celcius': 39.0, 'datetime': '2023-03-25T19:12:00', 'producer_id': 'terra_producer'}\n",
      "Message published successfully. Data: {'latitude': -35.7626, 'longitude': 142.1167, 'confidence': 87.0, 'surface_temperature_celcius': 62.0, 'datetime': '2023-03-26T00:00:00', 'producer_id': 'terra_producer'}\n",
      "Message published successfully. Data: {'latitude': -37.58, 'longitude': 149.331, 'confidence': 69.0, 'surface_temperature_celcius': 35.0, 'datetime': '2023-03-26T04:48:00', 'producer_id': 'terra_producer'}\n",
      "Message published successfully. Data: {'latitude': -36.7564, 'longitude': 142.343, 'confidence': 56.0, 'surface_temperature_celcius': 41.0, 'datetime': '2023-03-26T09:36:00', 'producer_id': 'terra_producer'}\n",
      "Message published successfully. Data: {'latitude': -37.3655, 'longitude': 148.2821, 'confidence': 85.0, 'surface_temperature_celcius': 59.0, 'datetime': '2023-03-26T14:24:00', 'producer_id': 'terra_producer'}\n",
      "Message published successfully. Data: {'latitude': -36.9111, 'longitude': 142.692, 'confidence': 93.0, 'surface_temperature_celcius': 72.0, 'datetime': '2023-03-26T19:12:00', 'producer_id': 'terra_producer'}\n",
      "Message published successfully. Data: {'latitude': -36.536, 'longitude': 144.024, 'confidence': 77.0, 'surface_temperature_celcius': 50.0, 'datetime': '2023-03-27T00:00:00', 'producer_id': 'terra_producer'}\n",
      "Message published successfully. Data: {'latitude': -36.9199, 'longitude': 143.0507, 'confidence': 82.0, 'surface_temperature_celcius': 56.0, 'datetime': '2023-03-27T04:48:00', 'producer_id': 'terra_producer'}\n",
      "Message published successfully. Data: {'latitude': -36.2207, 'longitude': 142.8519, 'confidence': 76.0, 'surface_temperature_celcius': 49.0, 'datetime': '2023-03-27T09:36:00', 'producer_id': 'terra_producer'}\n",
      "Message published successfully. Data: {'latitude': -37.0054, 'longitude': 142.149, 'confidence': 75.0, 'surface_temperature_celcius': 48.0, 'datetime': '2023-03-27T14:24:00', 'producer_id': 'terra_producer'}\n",
      "Message published successfully. Data: {'latitude': -37.732, 'longitude': 148.6059, 'confidence': 87.0, 'surface_temperature_celcius': 62.0, 'datetime': '2023-03-27T19:12:00', 'producer_id': 'terra_producer'}\n",
      "Message published successfully. Data: {'latitude': -36.3489, 'longitude': 145.3342, 'confidence': 52.0, 'surface_temperature_celcius': 38.0, 'datetime': '2023-03-28T00:00:00', 'producer_id': 'terra_producer'}\n",
      "Message published successfully. Data: {'latitude': -36.8759, 'longitude': 143.8985, 'confidence': 77.0, 'surface_temperature_celcius': 51.0, 'datetime': '2023-03-28T04:48:00', 'producer_id': 'terra_producer'}\n",
      "Message published successfully. Data: {'latitude': -38.2838, 'longitude': 145.9641, 'confidence': 80.0, 'surface_temperature_celcius': 53.0, 'datetime': '2023-03-28T09:36:00', 'producer_id': 'terra_producer'}\n",
      "Message published successfully. Data: {'latitude': -37.7504, 'longitude': 142.1373, 'confidence': 53.0, 'surface_temperature_celcius': 39.0, 'datetime': '2023-03-28T14:24:00', 'producer_id': 'terra_producer'}\n",
      "Message published successfully. Data: {'latitude': -36.2367, 'longitude': 141.3998, 'confidence': 65.0, 'surface_temperature_celcius': 42.0, 'datetime': '2023-03-28T19:12:00', 'producer_id': 'terra_producer'}\n",
      "Message published successfully. Data: {'latitude': -36.0077, 'longitude': 141.7747, 'confidence': 100.0, 'surface_temperature_celcius': 93.0, 'datetime': '2023-03-29T00:00:00', 'producer_id': 'terra_producer'}\n",
      "Message published successfully. Data: {'latitude': -37.8598, 'longitude': 142.5722, 'confidence': 74.0, 'surface_temperature_celcius': 48.0, 'datetime': '2023-03-29T04:48:00', 'producer_id': 'terra_producer'}\n",
      "Message published successfully. Data: {'latitude': -36.1031, 'longitude': 143.0782, 'confidence': 63.0, 'surface_temperature_celcius': 45.0, 'datetime': '2023-03-29T09:36:00', 'producer_id': 'terra_producer'}\n"
     ]
    },
    {
     "ename": "KeyboardInterrupt",
     "evalue": "",
     "output_type": "error",
     "traceback": [
      "\u001b[0;31m---------------------------------------------------------------------------\u001b[0m",
      "\u001b[0;31mKeyboardInterrupt\u001b[0m                         Traceback (most recent call last)",
      "Cell \u001b[0;32mIn[5], line 21\u001b[0m\n\u001b[1;32m     17\u001b[0m selection[\u001b[38;5;124m\"\u001b[39m\u001b[38;5;124mproducer_id\u001b[39m\u001b[38;5;124m\"\u001b[39m] \u001b[38;5;241m=\u001b[39m \u001b[38;5;124m\"\u001b[39m\u001b[38;5;124mterra_producer\u001b[39m\u001b[38;5;124m\"\u001b[39m\n\u001b[1;32m     19\u001b[0m publish_message(producer, TOPIC, selection)\n\u001b[0;32m---> 21\u001b[0m \u001b[43msleep\u001b[49m\u001b[43m(\u001b[49m\u001b[38;5;241;43m2\u001b[39;49m\u001b[43m)\u001b[49m  \u001b[38;5;66;03m# sleep for 2 seconds before publishing next message\u001b[39;00m\n",
      "\u001b[0;31mKeyboardInterrupt\u001b[0m: "
     ]
    }
   ],
   "source": [
    "TOPIC = \"hotspot\"\n",
    "HOST = \"localhost\"\n",
    "\n",
    "producer = connect_kafka_producer(HOST)\n",
    "dataset = process_data(hotspot_streaming_df)\n",
    "current_date = latest_date\n",
    "\n",
    "print(\"Publishing records..\")\n",
    "while True:\n",
    "    # increment date after every iteration\n",
    "    # since 10 seconds == 24 hours, hence 2 seconds = (24 / 10) * 4\n",
    "    current_date += dt.timedelta(hours=4.8)\n",
    "\n",
    "    # get random row and add metadata\n",
    "    selection = random.choice(dataset)\n",
    "    selection[\"datetime\"] = current_date.isoformat()\n",
    "    selection[\"producer_id\"] = \"terra_producer\"\n",
    "\n",
    "    publish_message(producer, TOPIC, selection)\n",
    "\n",
    "    sleep(2)  # sleep for 2 seconds before publishing next message"
   ]
  }
 ],
 "metadata": {
  "kernelspec": {
   "display_name": "asgn_3",
   "language": "python",
   "name": "asgn_3"
  },
  "language_info": {
   "codemirror_mode": {
    "name": "ipython",
    "version": 3
   },
   "file_extension": ".py",
   "mimetype": "text/x-python",
   "name": "python",
   "nbconvert_exporter": "python",
   "pygments_lexer": "ipython3",
   "version": "3.9.16"
  }
 },
 "nbformat": 4,
 "nbformat_minor": 2
}
